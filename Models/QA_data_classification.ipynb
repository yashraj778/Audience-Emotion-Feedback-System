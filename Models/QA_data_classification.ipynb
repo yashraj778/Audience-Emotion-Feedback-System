{
  "nbformat": 4,
  "nbformat_minor": 0,
  "metadata": {
    "colab": {
      "name": "QA_data_classification.ipynb",
      "provenance": [],
      "collapsed_sections": [
        "a3-DNFy4PNb9",
        "NsKzSqE6PQ5o"
      ],
      "toc_visible": true
    },
    "kernelspec": {
      "name": "python3",
      "display_name": "Python 3"
    },
    "language_info": {
      "name": "python"
    }
  },
  "cells": [
    {
      "cell_type": "markdown",
      "metadata": {
        "id": "jg6jH7hNML8k"
      },
      "source": [
        "# Concert feedback prediction\n"
      ]
    },
    {
      "cell_type": "markdown",
      "metadata": {
        "id": "a3-DNFy4PNb9"
      },
      "source": [
        "# 1. Data Preprocessing"
      ]
    },
    {
      "cell_type": "code",
      "metadata": {
        "id": "z8AMF6-lMS3E"
      },
      "source": [
        "import tensorflow as tf \n",
        "from tensorflow import keras\n",
        "import pandas as pd\n",
        "import matplotlib.pyplot as plt\n",
        "import numpy as np\n",
        "from sklearn.linear_model import Perceptron\n",
        "from sklearn.model_selection import train_test_split\n",
        "from sklearn.preprocessing import StandardScaler"
      ],
      "execution_count": null,
      "outputs": []
    },
    {
      "cell_type": "code",
      "metadata": {
        "colab": {
          "base_uri": "https://localhost:8080/"
        },
        "id": "sf37ITmSBvou",
        "outputId": "8f83e393-c476-4758-9c28-2759c5ad379a"
      },
      "source": [
        "# mounting google drive for reading files\n",
        "from google.colab import drive\n",
        "drive.mount('/content/drive')"
      ],
      "execution_count": null,
      "outputs": [
        {
          "output_type": "stream",
          "text": [
            "Drive already mounted at /content/drive; to attempt to forcibly remount, call drive.mount(\"/content/drive\", force_remount=True).\n"
          ],
          "name": "stdout"
        }
      ]
    },
    {
      "cell_type": "code",
      "metadata": {
        "id": "HEMCBuwBUkIS"
      },
      "source": [
        "data = pd.read_csv('/content/drive/MyDrive/Colab Notebooks/concert_feedback_classification/feedback_data_final.csv')\n",
        "x = data[data.columns[:-1]]\n",
        "y = data['target']"
      ],
      "execution_count": null,
      "outputs": []
    },
    {
      "cell_type": "code",
      "metadata": {
        "id": "_EbMCDC6My7F"
      },
      "source": [
        "x_train_n, x_test_n, y_train, y_test = train_test_split(x, y, test_size=0.25, random_state = 0)\n"
      ],
      "execution_count": null,
      "outputs": []
    },
    {
      "cell_type": "markdown",
      "metadata": {
        "id": "NsKzSqE6PQ5o"
      },
      "source": [
        "# 2. Baseline Methods for Classification"
      ]
    },
    {
      "cell_type": "code",
      "metadata": {
        "colab": {
          "base_uri": "https://localhost:8080/"
        },
        "id": "A5XlrSVeOv6k",
        "outputId": "30459e6a-b822-4032-e185-66e93d20e939"
      },
      "source": [
        "from sklearn.linear_model import LogisticRegression\n",
        "from sklearn.metrics import accuracy_score\n",
        "log_clf = LogisticRegression() \n",
        "log_clf.fit(x_train_n, y_train)\n",
        "\n",
        "\n",
        "y_test_pred = log_clf.predict(x_test_n)\n",
        "test_acc = accuracy_score(y_test, y_test_pred)\n",
        "y_train_pred = log_clf.predict(x_train_n)\n",
        "train_acc = accuracy_score(y_train, y_train_pred)\n",
        "\n",
        "print(\"The accuracy of the model on train data is \", train_acc)\n",
        "print(\"The accuracy of the model on test data is \", test_acc)\n"
      ],
      "execution_count": null,
      "outputs": [
        {
          "output_type": "stream",
          "text": [
            "The accuracy of the model on train data is  0.8066666666666666\n",
            "The accuracy of the model on test data is  0.9\n"
          ],
          "name": "stdout"
        }
      ]
    },
    {
      "cell_type": "code",
      "metadata": {
        "colab": {
          "base_uri": "https://localhost:8080/"
        },
        "id": "10PVt_eq-Az8",
        "outputId": "15e6fb4d-dc98-460c-de23-087aadc1cccd"
      },
      "source": [
        "log_clf.predict(x_test_n.iloc[0:1,:].values)"
      ],
      "execution_count": null,
      "outputs": [
        {
          "output_type": "execute_result",
          "data": {
            "text/plain": [
              "array([0])"
            ]
          },
          "metadata": {
            "tags": []
          },
          "execution_count": 31
        }
      ]
    },
    {
      "cell_type": "code",
      "metadata": {
        "colab": {
          "base_uri": "https://localhost:8080/"
        },
        "id": "eOEcpnJ_Pg5m",
        "outputId": "e7487341-9779-43d6-d924-a61b82e8f05e"
      },
      "source": [
        "from sklearn.metrics import classification_report\n",
        "print(classification_report(y_test, y_test_pred))\n"
      ],
      "execution_count": null,
      "outputs": [
        {
          "output_type": "stream",
          "text": [
            "              precision    recall  f1-score   support\n",
            "\n",
            "           0       0.89      0.97      0.93        34\n",
            "           1       0.92      0.75      0.83        16\n",
            "\n",
            "    accuracy                           0.90        50\n",
            "   macro avg       0.91      0.86      0.88        50\n",
            "weighted avg       0.90      0.90      0.90        50\n",
            "\n"
          ],
          "name": "stdout"
        }
      ]
    },
    {
      "cell_type": "code",
      "metadata": {
        "colab": {
          "base_uri": "https://localhost:8080/"
        },
        "id": "K1sVL0d0PwQp",
        "outputId": "31eae35e-320d-48ac-8dbe-23b56c64c826"
      },
      "source": [
        "from sklearn.metrics import confusion_matrix\n",
        "cnf_matrix = confusion_matrix(y_test, y_test_pred)\n",
        "\n",
        "print('Confusion matrix : \\n', cnf_matrix)"
      ],
      "execution_count": null,
      "outputs": [
        {
          "output_type": "stream",
          "text": [
            "Confusion matrix : \n",
            " [[33  1]\n",
            " [ 4 12]]\n"
          ],
          "name": "stdout"
        }
      ]
    },
    {
      "cell_type": "code",
      "metadata": {
        "id": "BaTzpvWqRbUH"
      },
      "source": [
        "# saving the trained model and loading it for inference\n",
        "import pickle\n",
        "file_name = \"/content/drive/MyDrive/Colab Notebooks/concert_feedback_classification/logistic_reg_qa.pkl\"\n",
        "\n",
        "# save\n",
        "pickle.dump(log_clf, open(file_name, \"wb\"))\n",
        "\n",
        "# load\n",
        "logistic_model_loaded = pickle.load(open(file_name, \"rb\"))\n",
        "# y_test_pred = logistic_model_loaded.predict(x_test_n)\n"
      ],
      "execution_count": null,
      "outputs": []
    },
    {
      "cell_type": "markdown",
      "metadata": {
        "id": "8-3F_1H3TPZ8"
      },
      "source": [
        "# 3. XGBoost for Classification"
      ]
    },
    {
      "cell_type": "code",
      "metadata": {
        "colab": {
          "base_uri": "https://localhost:8080/"
        },
        "id": "mMGnCOExTPaK",
        "outputId": "f4ab6335-2d5e-4ccc-be19-047416ea30aa"
      },
      "source": [
        "from xgboost import XGBClassifier\n",
        "from sklearn.metrics import accuracy_score\n",
        "log_clf = XGBClassifier() \n",
        "log_clf.fit(x_train_n, y_train)\n",
        "\n",
        "y_test_pred = log_clf.predict(x_test_n)\n",
        "test_acc = accuracy_score(y_test, y_test_pred)\n",
        "y_train_pred = log_clf.predict(x_train_n)\n",
        "train_acc = accuracy_score(y_train, y_train_pred)\n",
        "\n",
        "print(\"The accuracy of the model on train data is \", train_acc)\n",
        "print(\"The accuracy of the model on test data is \", test_acc)\n"
      ],
      "execution_count": null,
      "outputs": [
        {
          "output_type": "stream",
          "text": [
            "The accuracy of the model on train data is  0.9933333333333333\n",
            "The accuracy of the model on test data is  0.88\n"
          ],
          "name": "stdout"
        }
      ]
    },
    {
      "cell_type": "code",
      "metadata": {
        "colab": {
          "base_uri": "https://localhost:8080/"
        },
        "id": "8nGhhVs7TPaL",
        "outputId": "ef453265-0c67-4cbf-8de1-521656bf9e5b"
      },
      "source": [
        "from sklearn.metrics import classification_report\n",
        "print(classification_report(y_test, y_test_pred))\n"
      ],
      "execution_count": null,
      "outputs": [
        {
          "output_type": "stream",
          "text": [
            "              precision    recall  f1-score   support\n",
            "\n",
            "           0       0.91      0.91      0.91        34\n",
            "           1       0.81      0.81      0.81        16\n",
            "\n",
            "    accuracy                           0.88        50\n",
            "   macro avg       0.86      0.86      0.86        50\n",
            "weighted avg       0.88      0.88      0.88        50\n",
            "\n"
          ],
          "name": "stdout"
        }
      ]
    },
    {
      "cell_type": "code",
      "metadata": {
        "colab": {
          "base_uri": "https://localhost:8080/"
        },
        "id": "F7aED-gZTPaL",
        "outputId": "b412ad94-27ea-499a-92ae-a16471d18f6e"
      },
      "source": [
        "from sklearn.metrics import confusion_matrix\n",
        "cnf_matrix = confusion_matrix(y_test, y_test_pred)\n",
        "\n",
        "print('Confusion matrix : \\n', cnf_matrix)"
      ],
      "execution_count": null,
      "outputs": [
        {
          "output_type": "stream",
          "text": [
            "Confusion matrix : \n",
            " [[31  3]\n",
            " [ 3 13]]\n"
          ],
          "name": "stdout"
        }
      ]
    },
    {
      "cell_type": "code",
      "metadata": {
        "colab": {
          "base_uri": "https://localhost:8080/"
        },
        "id": "bPykz4LL8kYn",
        "outputId": "f937d7a7-c4e6-45fe-cb33-dec3058990a6"
      },
      "source": [
        "# sample prediction on one test sample\n",
        "log_clf.predict(x_test_n.iloc[0:1,:])"
      ],
      "execution_count": null,
      "outputs": [
        {
          "output_type": "execute_result",
          "data": {
            "text/plain": [
              "array([0])"
            ]
          },
          "metadata": {
            "tags": []
          },
          "execution_count": 38
        }
      ]
    },
    {
      "cell_type": "code",
      "metadata": {
        "id": "ZGnIenY5-XxE"
      },
      "source": [
        " # creating test input for prediction on new data\n",
        " test_input = pd.DataFrame({'Q1': [1],'Q2':[1] ,'Q3': [1], 'Q4':[0] , 'Q5':[0] })"
      ],
      "execution_count": null,
      "outputs": []
    },
    {
      "cell_type": "code",
      "metadata": {
        "id": "CR_OcJ798jrG"
      },
      "source": [
        "# saving the trained model and loading it for inference\n",
        "# import pickle\n",
        "# file_name = \"/content/drive/MyDrive/Colab Notebooks/concert_feedback_classification/xgb_reg.pkl\"\n",
        "\n",
        "# # save\n",
        "# pickle.dump(log_clf, open(file_name, \"wb\"))\n",
        "\n",
        "# # load\n",
        "# xgb_model_loaded = pickle.load(open(file_name, \"rb\"))\n"
      ],
      "execution_count": null,
      "outputs": []
    },
    {
      "cell_type": "code",
      "metadata": {
        "id": "4OVMhRIu-9jL"
      },
      "source": [
        "# prediction on the test input \n",
        "# xgb_model_loaded.predict(test_input)"
      ],
      "execution_count": null,
      "outputs": []
    },
    {
      "cell_type": "markdown",
      "metadata": {
        "id": "IHhFiNbBP8Rt"
      },
      "source": [
        "# 4. Building a Neural Network"
      ]
    },
    {
      "cell_type": "code",
      "metadata": {
        "id": "yEWxhbMsQBcC"
      },
      "source": [
        "from keras.models import Sequential\n",
        "from keras.layers import Dense, Dropout, Activation\n",
        "from keras.optimizers import Adam\n",
        "\n",
        "def nn_model():\n",
        "  model = Sequential()\n",
        "\n",
        "  model.add(Dense(128, input_shape=(5,), activation = 'relu', kernel_initializer= 'lecun_normal'))\n",
        "  # model.add(Dropout(0.1))\n",
        "\n",
        "  model.add(Dense(64, activation = 'relu'))\n",
        "  # model.add(Dropout(0.1))\n",
        "\n",
        "  model.add(Dense(32, activation = 'relu'))\n",
        "  # model.add(Dropout(0.1))\n",
        "\n",
        "  model.add(Dense(16, activation = 'relu'))\n",
        "\n",
        "\n",
        "  model.add(Dense(1, activation = 'sigmoid'))\n",
        "\n",
        "  model.compile(loss='binary_crossentropy', metrics=['accuracy'], optimizer='adam')\n",
        "  return model\n"
      ],
      "execution_count": null,
      "outputs": []
    },
    {
      "cell_type": "code",
      "metadata": {
        "colab": {
          "base_uri": "https://localhost:8080/"
        },
        "id": "5kzHpXW_QDC7",
        "outputId": "fbaa23ae-9077-462d-decb-b6ada1d1d37f"
      },
      "source": [
        "# simple early stopping\n",
        "from keras.callbacks import EarlyStopping\n",
        "from keras.callbacks import ModelCheckpoint\n",
        "out_path = '/content/drive/MyDrive/Colab Notebooks/concert_feedback_classification/' + 'best_model.h5'\n",
        "es = EarlyStopping(monitor='val_loss', mode='min', verbose=1, patience=70)\n",
        "mc = ModelCheckpoint(filepath= out_path, monitor='val_accuracy', mode='max', verbose=1, save_best_only=True)\n",
        "\n",
        "baseline_nn = nn_model()\n",
        "# fit model\n",
        "history = baseline_nn.fit(x_train_n, y_train, batch_size=8, epochs=50, validation_split = 0.2, verbose=2, shuffle=True, callbacks=[es, mc])\n"
      ],
      "execution_count": null,
      "outputs": [
        {
          "output_type": "stream",
          "text": [
            "Epoch 1/50\n",
            "15/15 - 1s - loss: 0.6627 - accuracy: 0.6167 - val_loss: 0.5868 - val_accuracy: 0.7000\n",
            "\n",
            "Epoch 00001: val_accuracy improved from -inf to 0.70000, saving model to /content/drive/MyDrive/Colab Notebooks/concert_feedback_classification/best_model.h5\n",
            "Epoch 2/50\n",
            "15/15 - 0s - loss: 0.4839 - accuracy: 0.7917 - val_loss: 0.5300 - val_accuracy: 0.8000\n",
            "\n",
            "Epoch 00002: val_accuracy improved from 0.70000 to 0.80000, saving model to /content/drive/MyDrive/Colab Notebooks/concert_feedback_classification/best_model.h5\n",
            "Epoch 3/50\n",
            "15/15 - 0s - loss: 0.4231 - accuracy: 0.8583 - val_loss: 0.4929 - val_accuracy: 0.8333\n",
            "\n",
            "Epoch 00003: val_accuracy improved from 0.80000 to 0.83333, saving model to /content/drive/MyDrive/Colab Notebooks/concert_feedback_classification/best_model.h5\n",
            "Epoch 4/50\n",
            "15/15 - 0s - loss: 0.3558 - accuracy: 0.8833 - val_loss: 0.5031 - val_accuracy: 0.8667\n",
            "\n",
            "Epoch 00004: val_accuracy improved from 0.83333 to 0.86667, saving model to /content/drive/MyDrive/Colab Notebooks/concert_feedback_classification/best_model.h5\n",
            "Epoch 5/50\n",
            "15/15 - 0s - loss: 0.3232 - accuracy: 0.8833 - val_loss: 0.4938 - val_accuracy: 0.8333\n",
            "\n",
            "Epoch 00005: val_accuracy did not improve from 0.86667\n",
            "Epoch 6/50\n",
            "15/15 - 0s - loss: 0.2844 - accuracy: 0.9000 - val_loss: 0.5102 - val_accuracy: 0.8333\n",
            "\n",
            "Epoch 00006: val_accuracy did not improve from 0.86667\n",
            "Epoch 7/50\n",
            "15/15 - 0s - loss: 0.2694 - accuracy: 0.8917 - val_loss: 0.5151 - val_accuracy: 0.8000\n",
            "\n",
            "Epoch 00007: val_accuracy did not improve from 0.86667\n",
            "Epoch 8/50\n",
            "15/15 - 0s - loss: 0.2468 - accuracy: 0.9167 - val_loss: 0.5014 - val_accuracy: 0.8667\n",
            "\n",
            "Epoch 00008: val_accuracy did not improve from 0.86667\n",
            "Epoch 9/50\n",
            "15/15 - 0s - loss: 0.2214 - accuracy: 0.9333 - val_loss: 0.5087 - val_accuracy: 0.8667\n",
            "\n",
            "Epoch 00009: val_accuracy did not improve from 0.86667\n",
            "Epoch 10/50\n",
            "15/15 - 0s - loss: 0.2071 - accuracy: 0.9417 - val_loss: 0.5244 - val_accuracy: 0.8333\n",
            "\n",
            "Epoch 00010: val_accuracy did not improve from 0.86667\n",
            "Epoch 11/50\n",
            "15/15 - 0s - loss: 0.1857 - accuracy: 0.9250 - val_loss: 0.5283 - val_accuracy: 0.8333\n",
            "\n",
            "Epoch 00011: val_accuracy did not improve from 0.86667\n",
            "Epoch 12/50\n",
            "15/15 - 0s - loss: 0.1669 - accuracy: 0.9500 - val_loss: 0.5534 - val_accuracy: 0.8000\n",
            "\n",
            "Epoch 00012: val_accuracy did not improve from 0.86667\n",
            "Epoch 13/50\n",
            "15/15 - 0s - loss: 0.1647 - accuracy: 0.9417 - val_loss: 0.5680 - val_accuracy: 0.8333\n",
            "\n",
            "Epoch 00013: val_accuracy did not improve from 0.86667\n",
            "Epoch 14/50\n",
            "15/15 - 0s - loss: 0.1636 - accuracy: 0.9417 - val_loss: 0.5864 - val_accuracy: 0.8333\n",
            "\n",
            "Epoch 00014: val_accuracy did not improve from 0.86667\n",
            "Epoch 15/50\n",
            "15/15 - 0s - loss: 0.1543 - accuracy: 0.9500 - val_loss: 0.5937 - val_accuracy: 0.7667\n",
            "\n",
            "Epoch 00015: val_accuracy did not improve from 0.86667\n",
            "Epoch 16/50\n",
            "15/15 - 0s - loss: 0.1376 - accuracy: 0.9500 - val_loss: 0.6447 - val_accuracy: 0.7667\n",
            "\n",
            "Epoch 00016: val_accuracy did not improve from 0.86667\n",
            "Epoch 17/50\n",
            "15/15 - 0s - loss: 0.1301 - accuracy: 0.9500 - val_loss: 0.6658 - val_accuracy: 0.8333\n",
            "\n",
            "Epoch 00017: val_accuracy did not improve from 0.86667\n",
            "Epoch 18/50\n",
            "15/15 - 0s - loss: 0.1216 - accuracy: 0.9667 - val_loss: 0.6534 - val_accuracy: 0.7667\n",
            "\n",
            "Epoch 00018: val_accuracy did not improve from 0.86667\n",
            "Epoch 19/50\n",
            "15/15 - 0s - loss: 0.1250 - accuracy: 0.9500 - val_loss: 0.6891 - val_accuracy: 0.8333\n",
            "\n",
            "Epoch 00019: val_accuracy did not improve from 0.86667\n",
            "Epoch 20/50\n",
            "15/15 - 0s - loss: 0.1202 - accuracy: 0.9750 - val_loss: 0.7133 - val_accuracy: 0.7667\n",
            "\n",
            "Epoch 00020: val_accuracy did not improve from 0.86667\n",
            "Epoch 21/50\n",
            "15/15 - 0s - loss: 0.0990 - accuracy: 0.9750 - val_loss: 0.6955 - val_accuracy: 0.8000\n",
            "\n",
            "Epoch 00021: val_accuracy did not improve from 0.86667\n",
            "Epoch 22/50\n",
            "15/15 - 0s - loss: 0.0903 - accuracy: 0.9667 - val_loss: 0.7219 - val_accuracy: 0.8000\n",
            "\n",
            "Epoch 00022: val_accuracy did not improve from 0.86667\n",
            "Epoch 23/50\n",
            "15/15 - 0s - loss: 0.0890 - accuracy: 0.9667 - val_loss: 0.7473 - val_accuracy: 0.8000\n",
            "\n",
            "Epoch 00023: val_accuracy did not improve from 0.86667\n",
            "Epoch 24/50\n",
            "15/15 - 0s - loss: 0.0940 - accuracy: 0.9750 - val_loss: 0.6954 - val_accuracy: 0.8000\n",
            "\n",
            "Epoch 00024: val_accuracy did not improve from 0.86667\n",
            "Epoch 25/50\n",
            "15/15 - 0s - loss: 0.0951 - accuracy: 0.9750 - val_loss: 0.8123 - val_accuracy: 0.7667\n",
            "\n",
            "Epoch 00025: val_accuracy did not improve from 0.86667\n",
            "Epoch 26/50\n",
            "15/15 - 0s - loss: 0.1034 - accuracy: 0.9583 - val_loss: 0.7933 - val_accuracy: 0.8000\n",
            "\n",
            "Epoch 00026: val_accuracy did not improve from 0.86667\n",
            "Epoch 27/50\n",
            "15/15 - 0s - loss: 0.0716 - accuracy: 0.9750 - val_loss: 0.7896 - val_accuracy: 0.8000\n",
            "\n",
            "Epoch 00027: val_accuracy did not improve from 0.86667\n",
            "Epoch 28/50\n",
            "15/15 - 0s - loss: 0.0720 - accuracy: 0.9833 - val_loss: 0.7502 - val_accuracy: 0.8000\n",
            "\n",
            "Epoch 00028: val_accuracy did not improve from 0.86667\n",
            "Epoch 29/50\n",
            "15/15 - 0s - loss: 0.0821 - accuracy: 0.9750 - val_loss: 0.8395 - val_accuracy: 0.8667\n",
            "\n",
            "Epoch 00029: val_accuracy did not improve from 0.86667\n",
            "Epoch 30/50\n",
            "15/15 - 0s - loss: 0.0736 - accuracy: 0.9750 - val_loss: 0.7425 - val_accuracy: 0.8000\n",
            "\n",
            "Epoch 00030: val_accuracy did not improve from 0.86667\n",
            "Epoch 31/50\n",
            "15/15 - 0s - loss: 0.0709 - accuracy: 0.9833 - val_loss: 0.8808 - val_accuracy: 0.8000\n",
            "\n",
            "Epoch 00031: val_accuracy did not improve from 0.86667\n",
            "Epoch 32/50\n",
            "15/15 - 0s - loss: 0.0563 - accuracy: 0.9833 - val_loss: 0.8569 - val_accuracy: 0.7667\n",
            "\n",
            "Epoch 00032: val_accuracy did not improve from 0.86667\n",
            "Epoch 33/50\n",
            "15/15 - 0s - loss: 0.0544 - accuracy: 0.9833 - val_loss: 0.8732 - val_accuracy: 0.8000\n",
            "\n",
            "Epoch 00033: val_accuracy did not improve from 0.86667\n",
            "Epoch 34/50\n",
            "15/15 - 0s - loss: 0.0525 - accuracy: 0.9833 - val_loss: 0.9033 - val_accuracy: 0.8000\n",
            "\n",
            "Epoch 00034: val_accuracy did not improve from 0.86667\n",
            "Epoch 35/50\n",
            "15/15 - 0s - loss: 0.0700 - accuracy: 0.9833 - val_loss: 0.9059 - val_accuracy: 0.8000\n",
            "\n",
            "Epoch 00035: val_accuracy did not improve from 0.86667\n",
            "Epoch 36/50\n",
            "15/15 - 0s - loss: 0.0588 - accuracy: 0.9833 - val_loss: 0.9843 - val_accuracy: 0.8000\n",
            "\n",
            "Epoch 00036: val_accuracy did not improve from 0.86667\n",
            "Epoch 37/50\n",
            "15/15 - 0s - loss: 0.0809 - accuracy: 0.9667 - val_loss: 0.9428 - val_accuracy: 0.7667\n",
            "\n",
            "Epoch 00037: val_accuracy did not improve from 0.86667\n",
            "Epoch 38/50\n",
            "15/15 - 0s - loss: 0.0673 - accuracy: 0.9833 - val_loss: 0.9621 - val_accuracy: 0.7667\n",
            "\n",
            "Epoch 00038: val_accuracy did not improve from 0.86667\n",
            "Epoch 39/50\n",
            "15/15 - 0s - loss: 0.0448 - accuracy: 0.9833 - val_loss: 0.9072 - val_accuracy: 0.7667\n",
            "\n",
            "Epoch 00039: val_accuracy did not improve from 0.86667\n",
            "Epoch 40/50\n",
            "15/15 - 0s - loss: 0.0424 - accuracy: 0.9833 - val_loss: 0.9702 - val_accuracy: 0.8000\n",
            "\n",
            "Epoch 00040: val_accuracy did not improve from 0.86667\n",
            "Epoch 41/50\n",
            "15/15 - 0s - loss: 0.0391 - accuracy: 0.9917 - val_loss: 1.0384 - val_accuracy: 0.8000\n",
            "\n",
            "Epoch 00041: val_accuracy did not improve from 0.86667\n",
            "Epoch 42/50\n",
            "15/15 - 0s - loss: 0.0401 - accuracy: 0.9833 - val_loss: 1.0423 - val_accuracy: 0.7667\n",
            "\n",
            "Epoch 00042: val_accuracy did not improve from 0.86667\n",
            "Epoch 43/50\n",
            "15/15 - 0s - loss: 0.0369 - accuracy: 0.9917 - val_loss: 1.0343 - val_accuracy: 0.7667\n",
            "\n",
            "Epoch 00043: val_accuracy did not improve from 0.86667\n",
            "Epoch 44/50\n",
            "15/15 - 0s - loss: 0.0361 - accuracy: 0.9917 - val_loss: 1.0521 - val_accuracy: 0.7667\n",
            "\n",
            "Epoch 00044: val_accuracy did not improve from 0.86667\n",
            "Epoch 45/50\n",
            "15/15 - 0s - loss: 0.0460 - accuracy: 0.9833 - val_loss: 1.0824 - val_accuracy: 0.7667\n",
            "\n",
            "Epoch 00045: val_accuracy did not improve from 0.86667\n",
            "Epoch 46/50\n",
            "15/15 - 0s - loss: 0.0377 - accuracy: 0.9833 - val_loss: 1.0516 - val_accuracy: 0.7667\n",
            "\n",
            "Epoch 00046: val_accuracy did not improve from 0.86667\n",
            "Epoch 47/50\n",
            "15/15 - 0s - loss: 0.0363 - accuracy: 0.9917 - val_loss: 1.0848 - val_accuracy: 0.7667\n",
            "\n",
            "Epoch 00047: val_accuracy did not improve from 0.86667\n",
            "Epoch 48/50\n",
            "15/15 - 0s - loss: 0.0317 - accuracy: 0.9917 - val_loss: 1.1157 - val_accuracy: 0.7667\n",
            "\n",
            "Epoch 00048: val_accuracy did not improve from 0.86667\n",
            "Epoch 49/50\n",
            "15/15 - 0s - loss: 0.0286 - accuracy: 0.9917 - val_loss: 1.1248 - val_accuracy: 0.7667\n",
            "\n",
            "Epoch 00049: val_accuracy did not improve from 0.86667\n",
            "Epoch 50/50\n",
            "15/15 - 0s - loss: 0.0269 - accuracy: 1.0000 - val_loss: 1.1454 - val_accuracy: 0.7667\n",
            "\n",
            "Epoch 00050: val_accuracy did not improve from 0.86667\n"
          ],
          "name": "stdout"
        }
      ]
    },
    {
      "cell_type": "code",
      "metadata": {
        "colab": {
          "base_uri": "https://localhost:8080/",
          "height": 573
        },
        "id": "29NIZ9nyQRGD",
        "outputId": "1945530b-acdc-4907-a25e-bcf7e7ac7b7a"
      },
      "source": [
        "# summarize history for accuracy\n",
        "plt.plot(history.history['accuracy'])\n",
        "plt.plot(history.history['val_accuracy'])\n",
        "plt.title('model accuracy')\n",
        "plt.ylabel('accuracy')\n",
        "plt.xlabel('epoch')\n",
        "plt.legend(['train', 'test'], loc='upper left')\n",
        "plt.show()\n",
        "\n",
        "# summarize history for loss\n",
        "plt.plot(history.history['loss'])\n",
        "plt.plot(history.history['val_loss'])\n",
        "plt.title('model loss')\n",
        "plt.ylabel('loss')\n",
        "plt.xlabel('epoch')\n",
        "plt.legend(['train', 'test'], loc='upper left')\n",
        "plt.show()"
      ],
      "execution_count": null,
      "outputs": [
        {
          "output_type": "display_data",
          "data": {
            "image/png": "[encoded data removed]",
            "text/plain": [
              "<Figure size 432x288 with 1 Axes>"
            ]
          },
          "metadata": {
            "tags": [],
            "needs_background": "light"
          }
        },
        {
          "output_type": "display_data",
          "data": {
            "image/png": "[encoded data removed]",
            "text/plain": [
              "<Figure size 432x288 with 1 Axes>"
            ]
          },
          "metadata": {
            "tags": [],
            "needs_background": "light"
          }
        }
      ]
    },
    {
      "cell_type": "code",
      "metadata": {
        "colab": {
          "base_uri": "https://localhost:8080/"
        },
        "id": "eCq7By33Qjfo",
        "outputId": "6b882f0e-402c-4fc2-ce48-64b979e360d2"
      },
      "source": [
        "from keras.models import load_model\n",
        "baseline_nn = load_model(out_path)\n",
        "\n",
        "y_nn_pred = baseline_nn.predict_classes(x_test_n)\n",
        "from sklearn.metrics import classification_report\n",
        "print(classification_report(y_test, y_nn_pred))\n",
        "\n",
        "from sklearn.metrics import confusion_matrix\n",
        "cnf_matrix = confusion_matrix(y_test, y_nn_pred)\n",
        "\n",
        "print('Confusion matrix : \\n', cnf_matrix)"
      ],
      "execution_count": null,
      "outputs": [
        {
          "output_type": "stream",
          "text": [
            "              precision    recall  f1-score   support\n",
            "\n",
            "           0       0.94      0.85      0.89        34\n",
            "           1       0.74      0.88      0.80        16\n",
            "\n",
            "    accuracy                           0.86        50\n",
            "   macro avg       0.84      0.86      0.85        50\n",
            "weighted avg       0.87      0.86      0.86        50\n",
            "\n",
            "Confusion matrix : \n",
            " [[29  5]\n",
            " [ 2 14]]\n"
          ],
          "name": "stdout"
        },
        {
          "output_type": "stream",
          "text": [
            "/usr/local/lib/python3.7/dist-packages/tensorflow/python/keras/engine/sequential.py:450: UserWarning: `model.predict_classes()` is deprecated and will be removed after 2021-01-01. Please use instead:* `np.argmax(model.predict(x), axis=-1)`,   if your model does multi-class classification   (e.g. if it uses a `softmax` last-layer activation).* `(model.predict(x) > 0.5).astype(\"int32\")`,   if your model does binary classification   (e.g. if it uses a `sigmoid` last-layer activation).\n",
            "  warnings.warn('`model.predict_classes()` is deprecated and '\n"
          ],
          "name": "stderr"
        }
      ]
    }
  ]
}